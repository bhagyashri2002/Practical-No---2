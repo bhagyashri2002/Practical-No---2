{
  "nbformat": 4,
  "nbformat_minor": 0,
  "metadata": {
    "colab": {
      "name": "Untitled2.ipynb",
      "provenance": []
    },
    "kernelspec": {
      "name": "python3",
      "display_name": "Python 3"
    },
    "language_info": {
      "name": "python"
    }
  },
  "cells": [
    {
      "cell_type": "code",
      "execution_count": 3,
      "metadata": {
        "colab": {
          "base_uri": "https://localhost:8080/"
        },
        "id": "mKG43w5E5KHT",
        "outputId": "50e88b42-cfa0-4cd6-adce-764d2c31091b"
      },
      "outputs": [
        {
          "output_type": "stream",
          "name": "stdout",
          "text": [
            "10\n",
            "<class 'str'>\n",
            "20\n",
            "<class 'str'>\n",
            "20.5\n",
            "<class 'float'>\n",
            "['apple', 'banana', 'cherry']\n",
            "<class 'list'>\n"
          ]
        }
      ],
      "source": [
        "a = \"10\"\n",
        "x = \"20\"\n",
        "\n",
        "#display a:\n",
        "print(a)\n",
        "\n",
        "#display the data type of a:\n",
        "print(type(a)) \n",
        "a = 20\n",
        "\n",
        "#display x:\n",
        "print(x)\n",
        "\n",
        "#display the data type of x:\n",
        "print(type(x)) \n",
        "x = 20.5\n",
        "\n",
        "#display x:\n",
        "print(x)\n",
        "\n",
        "#display the data type of x:\n",
        "print(type(x)) \n",
        "x = [\"apple\", \"banana\", \"cherry\"]\n",
        "\n",
        "#display x:\n",
        "print(x)\n",
        "\n",
        "#display the data type of x:\n",
        "print(type(x))"
      ]
    }
  ]
}